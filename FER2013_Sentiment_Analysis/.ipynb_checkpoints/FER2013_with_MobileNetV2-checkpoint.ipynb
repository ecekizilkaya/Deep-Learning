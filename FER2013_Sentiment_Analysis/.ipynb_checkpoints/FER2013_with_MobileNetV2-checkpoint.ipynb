{
 "cells": [
  {
   "cell_type": "markdown",
   "id": "68768516-5704-4ba6-b51b-ed259473a45a",
   "metadata": {},
   "source": [
    "## FER 2013 Sentiment Analysis using MobileNetV2"
   ]
  },
  {
   "cell_type": "code",
   "execution_count": 2,
   "id": "845a1143-870a-4239-8e8c-e93cca39dd54",
   "metadata": {},
   "outputs": [],
   "source": [
    "from tensorflow.keras.preprocessing.image import ImageDataGenerator, img_to_array, load_img\n",
    "from tensorflow.keras.models import Sequential\n",
    "from tensorflow.keras.layers import Dense, GlobalAveragePooling2D\n",
    "from tensorflow.keras.applications import MobileNetV2\n",
    "from tensorflow.keras.optimizers import Adam\n",
    "import matplotlib.pyplot as plt\n",
    "import numpy as np\n",
    "\n"
   ]
  },
  {
   "cell_type": "code",
   "execution_count": 3,
   "id": "d992274d-13ca-4532-9a8c-d50d33e72384",
   "metadata": {},
   "outputs": [],
   "source": [
    "train_files_path = \"dataset/train\"\n",
    "test_files_path = \"dataset/test\""
   ]
  },
  {
   "cell_type": "code",
   "execution_count": 4,
   "id": "dfcef492-451f-49e4-9215-7b223802b0d6",
   "metadata": {},
   "outputs": [
    {
     "name": "stdout",
     "output_type": "stream",
     "text": [
      "Found 28709 images belonging to 7 classes.\n",
      "Found 7178 images belonging to 7 classes.\n"
     ]
    }
   ],
   "source": [
    "train_data = ImageDataGenerator(rescale=1./255).flow_from_directory(train_files_path, target_size=(224, 224), class_mode='categorical')\n",
    "test_data = ImageDataGenerator(rescale=1./255).flow_from_directory(test_files_path, target_size=(224, 224), class_mode='categorical')"
   ]
  },
  {
   "cell_type": "code",
   "execution_count": 5,
   "id": "719e28f3-24f8-4da6-8d93-44fcd11b0ea7",
   "metadata": {},
   "outputs": [
    {
     "name": "stdout",
     "output_type": "stream",
     "text": [
      "Class angry has 3995 samples.\n",
      "Class disgust has 436 samples.\n",
      "Class fear has 4097 samples.\n",
      "Class happy has 7215 samples.\n",
      "Class neutral has 4965 samples.\n",
      "Class sad has 4830 samples.\n",
      "Class surprise has 3171 samples.\n"
     ]
    }
   ],
   "source": [
    "# For training data\n",
    "train_labels = train_data.classes\n",
    "unique_train_labels, counts_train = np.unique(train_labels, return_counts=True)\n",
    "for label, count in zip(unique_train_labels, counts_train):\n",
    "    class_name = list(train_data.class_indices.keys())[list(train_data.class_indices.values()).index(label)]\n",
    "    print(f\"Class {class_name} has {count} samples.\")"
   ]
  },
  {
   "cell_type": "code",
   "execution_count": 6,
   "id": "2bdfea4f-b527-43f6-aa0f-3aaf2cdef266",
   "metadata": {},
   "outputs": [
    {
     "name": "stdout",
     "output_type": "stream",
     "text": [
      "Class angry has 958 samples.\n",
      "Class disgust has 111 samples.\n",
      "Class fear has 1024 samples.\n",
      "Class happy has 1774 samples.\n",
      "Class neutral has 1233 samples.\n",
      "Class sad has 1247 samples.\n",
      "Class surprise has 831 samples.\n"
     ]
    }
   ],
   "source": [
    "# For test data\n",
    "test_labels = test_data.classes\n",
    "unique_test_labels, counts_test = np.unique(test_labels, return_counts=True)\n",
    "for label, count in zip(unique_test_labels, counts_test):\n",
    "    class_name = list(test_data.class_indices.keys())[list(test_data.class_indices.values()).index(label)]\n",
    "    print(f\"Class {class_name} has {count} samples.\")"
   ]
  },
  {
   "cell_type": "code",
   "execution_count": 7,
   "id": "7b1dd15e-4dde-4834-bac7-220419191107",
   "metadata": {},
   "outputs": [],
   "source": [
    "numberOfClasses = 7"
   ]
  },
  {
   "cell_type": "markdown",
   "id": "edaeadf1-fab3-445c-b063-81209b0e8fad",
   "metadata": {},
   "source": [
    "## Load MobileNetV2 model and customize it for your dataset."
   ]
  },
  {
   "cell_type": "code",
   "execution_count": 8,
   "id": "766ec52f-31c5-4c02-bbfc-e395d6fe1a6e",
   "metadata": {},
   "outputs": [],
   "source": [
    "mobilenet = MobileNetV2(weights='imagenet', include_top=False, input_shape=(224, 224, 3))\n"
   ]
  },
  {
   "cell_type": "code",
   "execution_count": 9,
   "id": "d4c3336e-dfd1-4100-b53b-37c8c4732d85",
   "metadata": {},
   "outputs": [
    {
     "name": "stdout",
     "output_type": "stream",
     "text": [
      "[<tensorflow.python.keras.engine.input_layer.InputLayer object at 0x00000203A45FEE50>, <tensorflow.python.keras.layers.convolutional.ZeroPadding2D object at 0x00000203A5D603D0>, <tensorflow.python.keras.layers.convolutional.Conv2D object at 0x00000203A5D60C10>, <tensorflow.python.keras.layers.normalization_v2.BatchNormalization object at 0x00000203A5D705E0>, <tensorflow.python.keras.layers.advanced_activations.ReLU object at 0x00000203A5D70AC0>, <tensorflow.python.keras.layers.convolutional.DepthwiseConv2D object at 0x00000203A5DBCB80>, <tensorflow.python.keras.layers.normalization_v2.BatchNormalization object at 0x00000203A5DC9EE0>, <tensorflow.python.keras.layers.advanced_activations.ReLU object at 0x00000203A5E279A0>, <tensorflow.python.keras.layers.convolutional.Conv2D object at 0x00000203A5E2E490>, <tensorflow.python.keras.layers.normalization_v2.BatchNormalization object at 0x00000203A5E479A0>, <tensorflow.python.keras.layers.convolutional.Conv2D object at 0x00000203A5E72E50>, <tensorflow.python.keras.layers.normalization_v2.BatchNormalization object at 0x00000203A5E725E0>, <tensorflow.python.keras.layers.advanced_activations.ReLU object at 0x00000203A5E78490>, <tensorflow.python.keras.layers.convolutional.ZeroPadding2D object at 0x00000203A5ECF250>, <tensorflow.python.keras.layers.convolutional.DepthwiseConv2D object at 0x00000203A5EAA100>, <tensorflow.python.keras.layers.normalization_v2.BatchNormalization object at 0x00000203A5EB6070>, <tensorflow.python.keras.layers.advanced_activations.ReLU object at 0x00000203A5EB65E0>, <tensorflow.python.keras.layers.convolutional.Conv2D object at 0x00000203A5EDEC10>, <tensorflow.python.keras.layers.normalization_v2.BatchNormalization object at 0x00000203A5EEE850>, <tensorflow.python.keras.layers.convolutional.Conv2D object at 0x00000203A5F10460>, <tensorflow.python.keras.layers.normalization_v2.BatchNormalization object at 0x00000203A5F10100>, <tensorflow.python.keras.layers.advanced_activations.ReLU object at 0x00000203A5F3D190>, <tensorflow.python.keras.layers.convolutional.DepthwiseConv2D object at 0x00000203A5F45AC0>, <tensorflow.python.keras.layers.normalization_v2.BatchNormalization object at 0x00000203A5F4C5B0>, <tensorflow.python.keras.layers.advanced_activations.ReLU object at 0x00000203A5F78580>, <tensorflow.python.keras.layers.convolutional.Conv2D object at 0x00000203A5F7F1C0>, <tensorflow.python.keras.layers.normalization_v2.BatchNormalization object at 0x00000203A5F8E670>, <tensorflow.python.keras.layers.merge.Add object at 0x00000203A5F9E6D0>, <tensorflow.python.keras.layers.convolutional.Conv2D object at 0x00000203A5FB1E20>, <tensorflow.python.keras.layers.normalization_v2.BatchNormalization object at 0x00000203A5FB88E0>, <tensorflow.python.keras.layers.advanced_activations.ReLU object at 0x00000203A5FB8880>, <tensorflow.python.keras.layers.convolutional.ZeroPadding2D object at 0x00000203A5FE5FD0>, <tensorflow.python.keras.layers.convolutional.DepthwiseConv2D object at 0x00000203A5FEA430>, <tensorflow.python.keras.layers.normalization_v2.BatchNormalization object at 0x00000203A6019220>, <tensorflow.python.keras.layers.advanced_activations.ReLU object at 0x00000203A6019A90>, <tensorflow.python.keras.layers.convolutional.Conv2D object at 0x00000203A6025100>, <tensorflow.python.keras.layers.normalization_v2.BatchNormalization object at 0x00000203A6028580>, <tensorflow.python.keras.layers.convolutional.Conv2D object at 0x00000203A6052F10>, <tensorflow.python.keras.layers.normalization_v2.BatchNormalization object at 0x00000203A607E310>, <tensorflow.python.keras.layers.advanced_activations.ReLU object at 0x00000203A6059C40>, <tensorflow.python.keras.layers.convolutional.DepthwiseConv2D object at 0x00000203A6087730>, <tensorflow.python.keras.layers.normalization_v2.BatchNormalization object at 0x00000203A608CEE0>, <tensorflow.python.keras.layers.advanced_activations.ReLU object at 0x00000203A60B8700>, <tensorflow.python.keras.layers.convolutional.Conv2D object at 0x00000203A60BF9A0>, <tensorflow.python.keras.layers.normalization_v2.BatchNormalization object at 0x00000203A60CE7F0>, <tensorflow.python.keras.layers.merge.Add object at 0x00000203A60DF6A0>, <tensorflow.python.keras.layers.convolutional.Conv2D object at 0x00000203A60F2400>, <tensorflow.python.keras.layers.normalization_v2.BatchNormalization object at 0x00000203A60F94C0>, <tensorflow.python.keras.layers.advanced_activations.ReLU object at 0x00000203A6104A30>, <tensorflow.python.keras.layers.convolutional.DepthwiseConv2D object at 0x00000203A6124670>, <tensorflow.python.keras.layers.normalization_v2.BatchNormalization object at 0x00000203A612CEB0>, <tensorflow.python.keras.layers.advanced_activations.ReLU object at 0x00000203A6158580>, <tensorflow.python.keras.layers.convolutional.Conv2D object at 0x00000203A6160520>, <tensorflow.python.keras.layers.normalization_v2.BatchNormalization object at 0x00000203A616B850>, <tensorflow.python.keras.layers.merge.Add object at 0x00000203A616B460>, <tensorflow.python.keras.layers.convolutional.Conv2D object at 0x00000203A6193DF0>, <tensorflow.python.keras.layers.normalization_v2.BatchNormalization object at 0x00000203A61A67C0>, <tensorflow.python.keras.layers.advanced_activations.ReLU object at 0x00000203A61A68E0>, <tensorflow.python.keras.layers.convolutional.ZeroPadding2D object at 0x00000203A61C61F0>, <tensorflow.python.keras.layers.convolutional.DepthwiseConv2D object at 0x00000203A61CCB80>, <tensorflow.python.keras.layers.normalization_v2.BatchNormalization object at 0x00000203A61D8070>, <tensorflow.python.keras.layers.advanced_activations.ReLU object at 0x00000203A61FAD90>, <tensorflow.python.keras.layers.convolutional.Conv2D object at 0x00000203A61FFC10>, <tensorflow.python.keras.layers.normalization_v2.BatchNormalization object at 0x00000203A62128B0>, <tensorflow.python.keras.layers.convolutional.Conv2D object at 0x00000203A62335B0>, <tensorflow.python.keras.layers.normalization_v2.BatchNormalization object at 0x00000203A623CC10>, <tensorflow.python.keras.layers.advanced_activations.ReLU object at 0x00000203A62460A0>, <tensorflow.python.keras.layers.convolutional.DepthwiseConv2D object at 0x00000203A6268820>, <tensorflow.python.keras.layers.normalization_v2.BatchNormalization object at 0x00000203A626FD90>, <tensorflow.python.keras.layers.advanced_activations.ReLU object at 0x00000203A6268F40>, <tensorflow.python.keras.layers.convolutional.Conv2D object at 0x00000203A629D370>, <tensorflow.python.keras.layers.normalization_v2.BatchNormalization object at 0x00000203A62AE7F0>, <tensorflow.python.keras.layers.merge.Add object at 0x00000203A62D0E80>, <tensorflow.python.keras.layers.convolutional.Conv2D object at 0x00000203A62D6970>, <tensorflow.python.keras.layers.normalization_v2.BatchNormalization object at 0x00000203A6302E50>, <tensorflow.python.keras.layers.advanced_activations.ReLU object at 0x00000203A62E7550>, <tensorflow.python.keras.layers.convolutional.DepthwiseConv2D object at 0x00000203A630A1F0>, <tensorflow.python.keras.layers.normalization_v2.BatchNormalization object at 0x00000203A6312D00>, <tensorflow.python.keras.layers.advanced_activations.ReLU object at 0x00000203A6335FA0>, <tensorflow.python.keras.layers.convolutional.Conv2D object at 0x00000203A633D250>, <tensorflow.python.keras.layers.normalization_v2.BatchNormalization object at 0x00000203A634E490>, <tensorflow.python.keras.layers.merge.Add object at 0x00000203A6372A60>, <tensorflow.python.keras.layers.convolutional.Conv2D object at 0x00000203A6377190>, <tensorflow.python.keras.layers.normalization_v2.BatchNormalization object at 0x00000203A637EA60>, <tensorflow.python.keras.layers.advanced_activations.ReLU object at 0x00000203A63A4CD0>, <tensorflow.python.keras.layers.convolutional.DepthwiseConv2D object at 0x00000203A63AB100>, <tensorflow.python.keras.layers.normalization_v2.BatchNormalization object at 0x00000203A63BC9A0>, <tensorflow.python.keras.layers.advanced_activations.ReLU object at 0x00000203A63D5EE0>, <tensorflow.python.keras.layers.convolutional.Conv2D object at 0x00000203A63E0CD0>, <tensorflow.python.keras.layers.normalization_v2.BatchNormalization object at 0x00000203A63E3070>, <tensorflow.python.keras.layers.merge.Add object at 0x00000203A6413BB0>, <tensorflow.python.keras.layers.convolutional.Conv2D object at 0x00000203A641AEE0>, <tensorflow.python.keras.layers.normalization_v2.BatchNormalization object at 0x00000203A64228B0>, <tensorflow.python.keras.layers.advanced_activations.ReLU object at 0x00000203A64449D0>, <tensorflow.python.keras.layers.convolutional.DepthwiseConv2D object at 0x00000203A644A8E0>, <tensorflow.python.keras.layers.normalization_v2.BatchNormalization object at 0x00000203A6478F10>, <tensorflow.python.keras.layers.advanced_activations.ReLU object at 0x00000203A644A8B0>, <tensorflow.python.keras.layers.convolutional.Conv2D object at 0x00000203A6482AC0>, <tensorflow.python.keras.layers.normalization_v2.BatchNormalization object at 0x00000203A6487100>, <tensorflow.python.keras.layers.convolutional.Conv2D object at 0x00000203A64B4460>, <tensorflow.python.keras.layers.normalization_v2.BatchNormalization object at 0x00000203A64C50D0>, <tensorflow.python.keras.layers.advanced_activations.ReLU object at 0x00000203A64C5550>, <tensorflow.python.keras.layers.convolutional.DepthwiseConv2D object at 0x00000203A64E7820>, <tensorflow.python.keras.layers.normalization_v2.BatchNormalization object at 0x00000203A650F3D0>, <tensorflow.python.keras.layers.advanced_activations.ReLU object at 0x00000203A651BD30>, <tensorflow.python.keras.layers.convolutional.Conv2D object at 0x00000203A6521CA0>, <tensorflow.python.keras.layers.normalization_v2.BatchNormalization object at 0x00000203A6529EB0>, <tensorflow.python.keras.layers.merge.Add object at 0x00000203A654BAF0>, <tensorflow.python.keras.layers.convolutional.Conv2D object at 0x00000203A6554070>, <tensorflow.python.keras.layers.normalization_v2.BatchNormalization object at 0x00000203A655BD60>, <tensorflow.python.keras.layers.advanced_activations.ReLU object at 0x00000203A6568C70>, <tensorflow.python.keras.layers.convolutional.DepthwiseConv2D object at 0x00000203A6589640>, <tensorflow.python.keras.layers.normalization_v2.BatchNormalization object at 0x00000203A659B6A0>, <tensorflow.python.keras.layers.advanced_activations.ReLU object at 0x00000203A65BCD30>, <tensorflow.python.keras.layers.convolutional.Conv2D object at 0x00000203A65C9460>, <tensorflow.python.keras.layers.normalization_v2.BatchNormalization object at 0x00000203A65F0850>, <tensorflow.python.keras.layers.merge.Add object at 0x00000203A65F0EE0>, <tensorflow.python.keras.layers.convolutional.Conv2D object at 0x00000203A65F82B0>, <tensorflow.python.keras.layers.normalization_v2.BatchNormalization object at 0x00000203A65FD970>, <tensorflow.python.keras.layers.advanced_activations.ReLU object at 0x00000203A6608F40>, <tensorflow.python.keras.layers.convolutional.ZeroPadding2D object at 0x00000203A75FB730>, <tensorflow.python.keras.layers.convolutional.DepthwiseConv2D object at 0x00000203A7601700>, <tensorflow.python.keras.layers.normalization_v2.BatchNormalization object at 0x00000203A762FAC0>, <tensorflow.python.keras.layers.advanced_activations.ReLU object at 0x00000203A762F760>, <tensorflow.python.keras.layers.convolutional.Conv2D object at 0x00000203A7637670>, <tensorflow.python.keras.layers.normalization_v2.BatchNormalization object at 0x00000203A7648910>, <tensorflow.python.keras.layers.convolutional.Conv2D object at 0x00000203A766A460>, <tensorflow.python.keras.layers.normalization_v2.BatchNormalization object at 0x00000203A766A1C0>, <tensorflow.python.keras.layers.advanced_activations.ReLU object at 0x00000203A76951F0>, <tensorflow.python.keras.layers.convolutional.DepthwiseConv2D object at 0x00000203A769DB20>, <tensorflow.python.keras.layers.normalization_v2.BatchNormalization object at 0x00000203A76A4FA0>, <tensorflow.python.keras.layers.advanced_activations.ReLU object at 0x00000203A76D25E0>, <tensorflow.python.keras.layers.convolutional.Conv2D object at 0x00000203A76D81C0>, <tensorflow.python.keras.layers.normalization_v2.BatchNormalization object at 0x00000203A76E96D0>, <tensorflow.python.keras.layers.merge.Add object at 0x00000203A76F7580>, <tensorflow.python.keras.layers.convolutional.Conv2D object at 0x00000203A770AE80>, <tensorflow.python.keras.layers.normalization_v2.BatchNormalization object at 0x00000203A7736F10>, <tensorflow.python.keras.layers.advanced_activations.ReLU object at 0x00000203A7736FA0>, <tensorflow.python.keras.layers.convolutional.DepthwiseConv2D object at 0x00000203A773C2B0>, <tensorflow.python.keras.layers.normalization_v2.BatchNormalization object at 0x00000203A7745370>, <tensorflow.python.keras.layers.advanced_activations.ReLU object at 0x00000203A773C520>, <tensorflow.python.keras.layers.convolutional.Conv2D object at 0x00000203A7777670>, <tensorflow.python.keras.layers.normalization_v2.BatchNormalization object at 0x00000203A7789520>, <tensorflow.python.keras.layers.merge.Add object at 0x00000203A77A6EE0>, <tensorflow.python.keras.layers.convolutional.Conv2D object at 0x00000203A77AC100>, <tensorflow.python.keras.layers.normalization_v2.BatchNormalization object at 0x00000203A77D9D90>, <tensorflow.python.keras.layers.advanced_activations.ReLU object at 0x00000203A77D9E80>, <tensorflow.python.keras.layers.convolutional.DepthwiseConv2D object at 0x00000203A77E04F0>, <tensorflow.python.keras.layers.normalization_v2.BatchNormalization object at 0x00000203A77E8E20>, <tensorflow.python.keras.layers.advanced_activations.ReLU object at 0x00000203A77E0400>, <tensorflow.python.keras.layers.convolutional.Conv2D object at 0x00000203A7813430>, <tensorflow.python.keras.layers.normalization_v2.BatchNormalization object at 0x00000203A7825790>, <tensorflow.python.keras.layers.convolutional.Conv2D object at 0x00000203A7848B50>, <tensorflow.python.keras.layers.normalization_v2.BatchNormalization object at 0x00000203A7851040>, <tensorflow.python.keras.layers.advanced_activations.ReLU object at 0x00000203A787AEE0>]\n"
     ]
    }
   ],
   "source": [
    "mobilenet_layers = mobilenet.layers\n",
    "print(mobilenet_layers)\n"
   ]
  },
  {
   "cell_type": "code",
   "execution_count": 11,
   "id": "5e4f3cf7-55f9-49ae-a589-dd4c652d2f79",
   "metadata": {},
   "outputs": [],
   "source": [
    "model = Sequential()\n",
    "\n",
    "# Add MobileNetV2 as a base model\n",
    "model.add(mobilenet)\n",
    "\n",
    "# Freeze the base model layers\n",
    "for layer in model.layers:\n",
    "    layer.trainable = False\n",
    "\n",
    "# Add the classification layers\n",
    "model.add(GlobalAveragePooling2D())  # Reduce the dimensions\n",
    "model.add(Dense(1024, activation='relu'))  # Dense layer with 1024 units\n",
    "model.add(Dense(numberOfClasses, activation='softmax'))  # Final output layer for classification"
   ]
  },
  {
   "cell_type": "markdown",
   "id": "304c9bb4-12b7-4573-bc8b-59e5e79ebc2a",
   "metadata": {},
   "source": [
    "## Compiling."
   ]
  },
  {
   "cell_type": "code",
   "execution_count": 12,
   "id": "6e5923ef-3894-4eae-9147-d66359c5d776",
   "metadata": {},
   "outputs": [],
   "source": [
    "model.compile(optimizer=Adam(), loss='categorical_crossentropy', metrics=['accuracy'])"
   ]
  },
  {
   "cell_type": "markdown",
   "id": "6db65ab4-d497-4314-a081-de5a30835681",
   "metadata": {},
   "source": [
    "## Train the model."
   ]
  },
  {
   "cell_type": "code",
   "execution_count": 19,
   "id": "e4568854-bcd0-4ea3-8940-022a1f837a59",
   "metadata": {},
   "outputs": [
    {
     "name": "stdout",
     "output_type": "stream",
     "text": [
      "{0: 1.0266046844269623, 1: 9.406618610747051, 2: 1.0010460615781582, 3: 0.5684387684387684, 4: 0.8260394187886635, 5: 0.8491274770777877, 6: 1.293372978330405}\n",
      "Epoch 1/15\n",
      "224/224 [==============================] - 144s 645ms/step - loss: 1.7120 - accuracy: 0.3421 - val_loss: 1.6668 - val_accuracy: 0.3605\n",
      "Epoch 2/15\n",
      "224/224 [==============================] - 143s 638ms/step - loss: 1.6145 - accuracy: 0.3795 - val_loss: 1.7198 - val_accuracy: 0.3426\n",
      "Epoch 3/15\n",
      "224/224 [==============================] - 143s 640ms/step - loss: 1.5820 - accuracy: 0.3987 - val_loss: 1.5029 - val_accuracy: 0.4330\n",
      "Epoch 4/15\n",
      "224/224 [==============================] - 142s 632ms/step - loss: 1.5686 - accuracy: 0.4104 - val_loss: 1.5477 - val_accuracy: 0.4185\n",
      "Epoch 5/15\n",
      "224/224 [==============================] - 138s 616ms/step - loss: 1.5763 - accuracy: 0.4092 - val_loss: 1.6595 - val_accuracy: 0.3616\n",
      "Epoch 6/15\n",
      "224/224 [==============================] - 138s 617ms/step - loss: 1.4706 - accuracy: 0.4393 - val_loss: 1.5425 - val_accuracy: 0.3968\n",
      "Epoch 7/15\n",
      "224/224 [==============================] - 138s 615ms/step - loss: 1.4681 - accuracy: 0.4359 - val_loss: 1.4214 - val_accuracy: 0.4632\n",
      "Epoch 8/15\n",
      "224/224 [==============================] - 138s 617ms/step - loss: 1.4381 - accuracy: 0.4467 - val_loss: 1.4088 - val_accuracy: 0.4554\n",
      "Epoch 9/15\n",
      "224/224 [==============================] - 138s 617ms/step - loss: 1.4179 - accuracy: 0.4563 - val_loss: 1.5634 - val_accuracy: 0.4057\n",
      "Epoch 10/15\n",
      "224/224 [==============================] - 138s 617ms/step - loss: 1.3816 - accuracy: 0.4604 - val_loss: 1.4716 - val_accuracy: 0.4314\n",
      "Epoch 11/15\n",
      "224/224 [==============================] - 137s 613ms/step - loss: 1.4077 - accuracy: 0.4551 - val_loss: 1.5282 - val_accuracy: 0.4124\n",
      "Epoch 12/15\n",
      "224/224 [==============================] - 137s 612ms/step - loss: 1.3462 - accuracy: 0.4689 - val_loss: 1.4075 - val_accuracy: 0.4615\n",
      "Epoch 13/15\n",
      "224/224 [==============================] - 137s 610ms/step - loss: 1.3534 - accuracy: 0.4746 - val_loss: 1.4475 - val_accuracy: 0.4526\n",
      "Epoch 14/15\n",
      "224/224 [==============================] - 137s 612ms/step - loss: 1.3348 - accuracy: 0.4767 - val_loss: 1.4737 - val_accuracy: 0.4386\n",
      "Epoch 15/15\n",
      "224/224 [==============================] - 137s 613ms/step - loss: 1.3140 - accuracy: 0.4823 - val_loss: 1.5768 - val_accuracy: 0.3917\n"
     ]
    }
   ],
   "source": [
    "from sklearn.utils.class_weight import compute_class_weight\n",
    "class_weights = compute_class_weight('balanced', classes=np.unique(train_data.classes), y=train_data.classes)\n",
    "class_weights = dict(enumerate(class_weights))\n",
    "print(class_weights)  # Ağırlıkları görmek için\n",
    "\n",
    "batch_size = 128\n",
    "history = model.fit(train_data, \n",
    "                    steps_per_epoch=train_data.samples // batch_size, \n",
    "                    epochs=15, \n",
    "                    validation_data=test_data, \n",
    "                    validation_steps=test_data.samples // batch_size,\n",
    "                    class_weight=class_weights)\n"
   ]
  },
  {
   "cell_type": "markdown",
   "id": "284c21bd-6d75-4920-ac62-a8fd50c031e3",
   "metadata": {},
   "source": [
    "## Ploting accuracy."
   ]
  },
  {
   "cell_type": "code",
   "execution_count": 20,
   "id": "5d80bba3-5583-43b4-a6a7-fe95b746e5d7",
   "metadata": {},
   "outputs": [
    {
     "data": {
      "image/png": "[encoded data removed]",
      "text/plain": [
       "<Figure size 640x480 with 1 Axes>"
      ]
     },
     "metadata": {},
     "output_type": "display_data"
    }
   ],
   "source": [
    "plt.plot(history.history[\"accuracy\"])\n",
    "plt.plot(history.history[\"val_accuracy\"])\n",
    "plt.title(\"Model Accuracy\")\n",
    "plt.legend([\"Train\",\"Validation\"],loc = \"upper left\")\n",
    "plt.subplots_adjust(top=1.0,bottom=0.0,right=0.95,hspace=0.25,wspace=0.35)"
   ]
  },
  {
   "cell_type": "markdown",
   "id": "9dbd3e6e-5574-4727-9bdb-eee82a80885a",
   "metadata": {},
   "source": [
    "## Let's make prediction."
   ]
  },
  {
   "cell_type": "code",
   "execution_count": 122,
   "id": "24dd270d-8012-4607-ab39-980a203a4794",
   "metadata": {},
   "outputs": [],
   "source": [
    "from PIL import Image\n",
    "img = Image.open(\"PrivateTest_1623042.jpg\").resize((224,224))"
   ]
  },
  {
   "cell_type": "code",
   "execution_count": 123,
   "id": "1acfbc14-6011-46b0-9678-4bfa1cfae7dc",
   "metadata": {},
   "outputs": [
    {
     "data": {
      "text/plain": [
       "(224, 224)"
      ]
     },
     "execution_count": 123,
     "metadata": {},
     "output_type": "execute_result"
    }
   ],
   "source": [
    "img = np.array(img)\n",
    "img.shape"
   ]
  },
  {
   "cell_type": "code",
   "execution_count": 124,
   "id": "d20d995f-97c9-4e29-a17d-c4da54b82f36",
   "metadata": {},
   "outputs": [
    {
     "name": "stdout",
     "output_type": "stream",
     "text": [
      "(1, 224, 224, 3)\n"
     ]
    }
   ],
   "source": [
    "# If image dimension is (224,244) run this code block.\n",
    "if img.ndim == 2:\n",
    "    img = np.stack((img, img, img), axis=-1)  # (224, 224, 3)\n",
    "    img = np.expand_dims(img, axis=0)  # (1, 224, 224, 3)\n",
    "print(img.shape)"
   ]
  },
  {
   "cell_type": "code",
   "execution_count": 125,
   "id": "5e456359-bb15-4b7b-979f-5570056428bb",
   "metadata": {},
   "outputs": [
    {
     "data": {
      "text/plain": [
       "(1, 224, 224, 3)"
      ]
     },
     "execution_count": 125,
     "metadata": {},
     "output_type": "execute_result"
    }
   ],
   "source": [
    "# If image dimension is (224,224,3) run this code block.\n",
    "if img.ndim == 3:\n",
    "    img = img.reshape(-1,224,224,3) \n",
    "img.shape"
   ]
  },
  {
   "cell_type": "code",
   "execution_count": 126,
   "id": "ca114de0-1f4a-46fb-9457-9e6303f0cc83",
   "metadata": {},
   "outputs": [
    {
     "name": "stdout",
     "output_type": "stream",
     "text": [
      "4\n"
     ]
    }
   ],
   "source": [
    "print(img.ndim)"
   ]
  },
  {
   "cell_type": "code",
   "execution_count": 127,
   "id": "b7b21a2e-3b1b-4dbe-bd0d-7f390f1b7158",
   "metadata": {},
   "outputs": [],
   "source": [
    "from tensorflow.keras.applications.vgg16 import preprocess_input, decode_predictions\n",
    "# I will scale input pixels between -1 and 1 using my model's preprocess_input for VGG16 model.\n",
    "img = preprocess_input(img)  "
   ]
  },
  {
   "cell_type": "code",
   "execution_count": 128,
   "id": "ea58f06f-6015-4fcc-b4af-0367b1e274bb",
   "metadata": {},
   "outputs": [
    {
     "data": {
      "image/png": "[encoded data removed]",
      "text/plain": [
       "<Figure size 640x480 with 1 Axes>"
      ]
     },
     "metadata": {},
     "output_type": "display_data"
    }
   ],
   "source": [
    "img_for_display = load_img(\"PrivateTest_1623042.jpg\")\n",
    "plt.imshow(img_for_display)\n",
    "plt.show()"
   ]
  },
  {
   "cell_type": "code",
   "execution_count": 129,
   "id": "3a3e2120-1da7-4e37-a1e1-3470631bd3f1",
   "metadata": {},
   "outputs": [],
   "source": [
    "preds = model.predict(img)"
   ]
  },
  {
   "cell_type": "code",
   "execution_count": 130,
   "id": "5936a8eb-5dae-4bc8-a150-a8cc66de0652",
   "metadata": {},
   "outputs": [
    {
     "data": {
      "text/plain": [
       "array([[3.4145562e-03, 3.2420020e-04, 6.7201382e-01, 5.8517791e-04,\n",
       "        5.1940763e-03, 3.0586353e-01, 1.2604604e-02]], dtype=float32)"
      ]
     },
     "execution_count": 130,
     "metadata": {},
     "output_type": "execute_result"
    }
   ],
   "source": [
    "# Let's see contents of prediction array.\n",
    "preds"
   ]
  },
  {
   "cell_type": "code",
   "execution_count": 131,
   "id": "0b22b9b8-e7ee-4b2a-a0d8-4e4a4d268726",
   "metadata": {},
   "outputs": [
    {
     "name": "stdout",
     "output_type": "stream",
     "text": [
      "fear\n"
     ]
    }
   ],
   "source": [
    "image_classes = [\"angry\",\"disgust\",\"fear\",\"happy\",\"neutral\",\"sad\",\"suprise\"]\n",
    "\n",
    "result = np.argmax(preds[0])\n",
    "print(image_classes[result]) "
   ]
  },
  {
   "cell_type": "code",
   "execution_count": null,
   "id": "9bc48b9d-da00-4a97-a147-621de8d4d6b6",
   "metadata": {},
   "outputs": [],
   "source": []
  },
  {
   "cell_type": "code",
   "execution_count": null,
   "id": "0ac1d5b4-419b-4c63-9702-a994993725b7",
   "metadata": {},
   "outputs": [],
   "source": []
  }
 ],
 "metadata": {
  "kernelspec": {
   "display_name": "Python 3 (ipykernel)",
   "language": "python",
   "name": "python3"
  },
  "language_info": {
   "codemirror_mode": {
    "name": "ipython",
    "version": 3
   },
   "file_extension": ".py",
   "mimetype": "text/x-python",
   "name": "python",
   "nbconvert_exporter": "python",
   "pygments_lexer": "ipython3",
   "version": "3.8.20"
  }
 },
 "nbformat": 4,
 "nbformat_minor": 5
}
